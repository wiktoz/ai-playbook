{
 "cells": [
  {
   "cell_type": "markdown",
   "id": "9df8f2e2",
   "metadata": {},
   "source": [
    "# **Machine Learning Course**"
   ]
  },
  {
   "cell_type": "markdown",
   "id": "50f00e10",
   "metadata": {},
   "source": [
    "#### **What is Machine Learning?**\n",
    "- Learning patterns from data"
   ]
  },
  {
   "cell_type": "markdown",
   "id": "64ababb8",
   "metadata": {},
   "source": [
    "![image.png](./img/dataset.png)"
   ]
  }
 ],
 "metadata": {
  "language_info": {
   "name": "python"
  }
 },
 "nbformat": 4,
 "nbformat_minor": 5
}
